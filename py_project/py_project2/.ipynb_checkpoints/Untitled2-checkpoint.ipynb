{
 "cells": [
  {
   "cell_type": "code",
   "execution_count": 3,
   "metadata": {},
   "outputs": [
    {
     "name": "stdout",
     "output_type": "stream",
     "text": [
      "0    1.0\n",
      "1    3.0\n",
      "2    5.0\n",
      "3    NaN\n",
      "4    6.0\n",
      "5    8.0\n",
      "dtype: float64\n",
      "DatetimeIndex(['2013-01-01', '2013-01-02', '2013-01-03', '2013-01-04',\n",
      "               '2013-01-05', '2013-01-06'],\n",
      "              dtype='datetime64[ns]', freq='D')\n",
      "                   A         B         C         D\n",
      "2013-01-01 -0.446659  1.640457 -1.064207  0.703164\n",
      "2013-01-02  0.613528  1.946466 -0.883994  0.724076\n",
      "2013-01-03 -1.484188 -0.562530 -1.425855  2.174042\n",
      "2013-01-04 -1.620312  0.352488  0.346794 -0.549815\n",
      "2013-01-05  0.978877 -0.524833 -2.003160  0.358494\n",
      "2013-01-06 -1.589932  0.929760  0.796924  0.284896\n",
      "              A         B         C         D\n",
      "count  6.000000  6.000000  6.000000  6.000000\n",
      "mean  -0.591448  0.630301 -0.705583  0.615810\n",
      "std    1.165450  1.065527  1.070324  0.892394\n",
      "min   -1.620312 -0.562530 -2.003160 -0.549815\n",
      "25%   -1.563496 -0.305502 -1.335443  0.303295\n",
      "50%   -0.965423  0.641124 -0.974101  0.530829\n",
      "75%    0.348481  1.462783  0.039097  0.718848\n",
      "max    0.978877  1.946466  0.796924  2.174042\n"
     ]
    }
   ],
   "source": [
    "#data01.py\n",
    "import numpy as np\n",
    "import pandas as pd\n",
    "\n",
    "s=pd.Series([1,3,5,np.nan,6,8]) #np.nan는 숫자가 아닌것이 들어있다는말 nan은 결측치\n",
    "print(s)\n",
    "#numpy는 주로 배열을 컨트롤\n",
    "#pandas - 데이터 분석 통계(주로 2차원 설계)\n",
    "dates=pd.date_range('20130101',periods=6)\n",
    "print(dates)\n",
    "df=pd.DataFrame(np.random.randn(6,4), index=dates,columns=['A','B','C','D']) #row, colum\n",
    "print(df)\n",
    "# jupyter notebook ->브라우저 실습\n",
    "df.head(3)\n",
    "df.index\n",
    "df.columns\n",
    "df.values #\n",
    "df.info #df정보에대해서 알고싶다\n",
    "print(df.describe())"
   ]
  },
  {
   "cell_type": "code",
   "execution_count": 8,
   "metadata": {},
   "outputs": [
    {
     "data": {
      "text/html": [
       "<div>\n",
       "<style>\n",
       "    .dataframe thead tr:only-child th {\n",
       "        text-align: right;\n",
       "    }\n",
       "\n",
       "    .dataframe thead th {\n",
       "        text-align: left;\n",
       "    }\n",
       "\n",
       "    .dataframe tbody tr th {\n",
       "        vertical-align: top;\n",
       "    }\n",
       "</style>\n",
       "<table border=\"1\" class=\"dataframe\">\n",
       "  <thead>\n",
       "    <tr style=\"text-align: right;\">\n",
       "      <th></th>\n",
       "      <th>A</th>\n",
       "      <th>B</th>\n",
       "      <th>C</th>\n",
       "      <th>D</th>\n",
       "    </tr>\n",
       "  </thead>\n",
       "  <tbody>\n",
       "    <tr>\n",
       "      <th>2013-01-02</th>\n",
       "      <td>0.613528</td>\n",
       "      <td>1.946466</td>\n",
       "      <td>-0.883994</td>\n",
       "      <td>0.724076</td>\n",
       "    </tr>\n",
       "    <tr>\n",
       "      <th>2013-01-01</th>\n",
       "      <td>-0.446659</td>\n",
       "      <td>1.640457</td>\n",
       "      <td>-1.064207</td>\n",
       "      <td>0.703164</td>\n",
       "    </tr>\n",
       "    <tr>\n",
       "      <th>2013-01-06</th>\n",
       "      <td>-1.589932</td>\n",
       "      <td>0.929760</td>\n",
       "      <td>0.796924</td>\n",
       "      <td>0.284896</td>\n",
       "    </tr>\n",
       "    <tr>\n",
       "      <th>2013-01-04</th>\n",
       "      <td>-1.620312</td>\n",
       "      <td>0.352488</td>\n",
       "      <td>0.346794</td>\n",
       "      <td>-0.549815</td>\n",
       "    </tr>\n",
       "    <tr>\n",
       "      <th>2013-01-05</th>\n",
       "      <td>0.978877</td>\n",
       "      <td>-0.524833</td>\n",
       "      <td>-2.003160</td>\n",
       "      <td>0.358494</td>\n",
       "    </tr>\n",
       "    <tr>\n",
       "      <th>2013-01-03</th>\n",
       "      <td>-1.484188</td>\n",
       "      <td>-0.562530</td>\n",
       "      <td>-1.425855</td>\n",
       "      <td>2.174042</td>\n",
       "    </tr>\n",
       "  </tbody>\n",
       "</table>\n",
       "</div>"
      ],
      "text/plain": [
       "                   A         B         C         D\n",
       "2013-01-02  0.613528  1.946466 -0.883994  0.724076\n",
       "2013-01-01 -0.446659  1.640457 -1.064207  0.703164\n",
       "2013-01-06 -1.589932  0.929760  0.796924  0.284896\n",
       "2013-01-04 -1.620312  0.352488  0.346794 -0.549815\n",
       "2013-01-05  0.978877 -0.524833 -2.003160  0.358494\n",
       "2013-01-03 -1.484188 -0.562530 -1.425855  2.174042"
      ]
     },
     "execution_count": 8,
     "metadata": {},
     "output_type": "execute_result"
    }
   ],
   "source": [
    "#               A         B         C         D\n",
    "# count  6.000000  6.000000  6.000000  6.000000\n",
    "# mean  -0.111961  0.340303  0.421309 -0.223080\n",
    "# std    1.359790  1.001487  1.087335  1.243388\n",
    "# min   -1.349969 -0.771991 -0.677043 -1.940744\n",
    "# 25%   -1.131170 -0.450483 -0.391569 -1.049502\n",
    "# 50%   -0.643682  0.178835  0.269222 -0.129677\n",
    "# 75%    1.041134  1.202033  0.871777  0.691298\n",
    "# max    1.656496  1.573297  2.205656  1.252770\n",
    "# count가 전체 열 수와 같으면 결측치가 없다는 말\n",
    "# std 표준편차\n",
    "\n",
    "df.sort_values(by='B', ascending=False) #큰값에서 작은값으로 \n"
   ]
  },
  {
   "cell_type": "code",
   "execution_count": 15,
   "metadata": {},
   "outputs": [
    {
     "data": {
      "text/plain": [
       "2013-01-01   -0.446659\n",
       "2013-01-02    0.613528\n",
       "2013-01-03   -1.484188\n",
       "2013-01-04   -1.620312\n",
       "2013-01-05    0.978877\n",
       "2013-01-06   -1.589932\n",
       "Freq: D, Name: A, dtype: float64"
      ]
     },
     "execution_count": 15,
     "metadata": {},
     "output_type": "execute_result"
    }
   ],
   "source": [
    "df['A'] #A컬럼만 보고싶다.\n"
   ]
  },
  {
   "cell_type": "code",
   "execution_count": 9,
   "metadata": {},
   "outputs": [
    {
     "data": {
      "text/html": [
       "<div>\n",
       "<style>\n",
       "    .dataframe thead tr:only-child th {\n",
       "        text-align: right;\n",
       "    }\n",
       "\n",
       "    .dataframe thead th {\n",
       "        text-align: left;\n",
       "    }\n",
       "\n",
       "    .dataframe tbody tr th {\n",
       "        vertical-align: top;\n",
       "    }\n",
       "</style>\n",
       "<table border=\"1\" class=\"dataframe\">\n",
       "  <thead>\n",
       "    <tr style=\"text-align: right;\">\n",
       "      <th></th>\n",
       "      <th>A</th>\n",
       "      <th>B</th>\n",
       "      <th>C</th>\n",
       "      <th>D</th>\n",
       "    </tr>\n",
       "  </thead>\n",
       "  <tbody>\n",
       "    <tr>\n",
       "      <th>2013-01-02</th>\n",
       "      <td>0.613528</td>\n",
       "      <td>1.946466</td>\n",
       "      <td>-0.883994</td>\n",
       "      <td>0.724076</td>\n",
       "    </tr>\n",
       "    <tr>\n",
       "      <th>2013-01-03</th>\n",
       "      <td>-1.484188</td>\n",
       "      <td>-0.562530</td>\n",
       "      <td>-1.425855</td>\n",
       "      <td>2.174042</td>\n",
       "    </tr>\n",
       "    <tr>\n",
       "      <th>2013-01-04</th>\n",
       "      <td>-1.620312</td>\n",
       "      <td>0.352488</td>\n",
       "      <td>0.346794</td>\n",
       "      <td>-0.549815</td>\n",
       "    </tr>\n",
       "  </tbody>\n",
       "</table>\n",
       "</div>"
      ],
      "text/plain": [
       "                   A         B         C         D\n",
       "2013-01-02  0.613528  1.946466 -0.883994  0.724076\n",
       "2013-01-03 -1.484188 -0.562530 -1.425855  2.174042\n",
       "2013-01-04 -1.620312  0.352488  0.346794 -0.549815"
      ]
     },
     "execution_count": 9,
     "metadata": {},
     "output_type": "execute_result"
    }
   ],
   "source": [
    "df[0:2] #데이터 개수(row기준) 0,1\n",
    "df['20130102':'20130104']"
   ]
  },
  {
   "cell_type": "code",
   "execution_count": 10,
   "metadata": {},
   "outputs": [
    {
     "data": {
      "text/html": [
       "<div>\n",
       "<style>\n",
       "    .dataframe thead tr:only-child th {\n",
       "        text-align: right;\n",
       "    }\n",
       "\n",
       "    .dataframe thead th {\n",
       "        text-align: left;\n",
       "    }\n",
       "\n",
       "    .dataframe tbody tr th {\n",
       "        vertical-align: top;\n",
       "    }\n",
       "</style>\n",
       "<table border=\"1\" class=\"dataframe\">\n",
       "  <thead>\n",
       "    <tr style=\"text-align: right;\">\n",
       "      <th></th>\n",
       "      <th>A</th>\n",
       "      <th>B</th>\n",
       "    </tr>\n",
       "  </thead>\n",
       "  <tbody>\n",
       "    <tr>\n",
       "      <th>2013-01-01</th>\n",
       "      <td>-0.446659</td>\n",
       "      <td>1.640457</td>\n",
       "    </tr>\n",
       "    <tr>\n",
       "      <th>2013-01-02</th>\n",
       "      <td>0.613528</td>\n",
       "      <td>1.946466</td>\n",
       "    </tr>\n",
       "    <tr>\n",
       "      <th>2013-01-03</th>\n",
       "      <td>-1.484188</td>\n",
       "      <td>-0.562530</td>\n",
       "    </tr>\n",
       "    <tr>\n",
       "      <th>2013-01-04</th>\n",
       "      <td>-1.620312</td>\n",
       "      <td>0.352488</td>\n",
       "    </tr>\n",
       "    <tr>\n",
       "      <th>2013-01-05</th>\n",
       "      <td>0.978877</td>\n",
       "      <td>-0.524833</td>\n",
       "    </tr>\n",
       "    <tr>\n",
       "      <th>2013-01-06</th>\n",
       "      <td>-1.589932</td>\n",
       "      <td>0.929760</td>\n",
       "    </tr>\n",
       "  </tbody>\n",
       "</table>\n",
       "</div>"
      ],
      "text/plain": [
       "                   A         B\n",
       "2013-01-01 -0.446659  1.640457\n",
       "2013-01-02  0.613528  1.946466\n",
       "2013-01-03 -1.484188 -0.562530\n",
       "2013-01-04 -1.620312  0.352488\n",
       "2013-01-05  0.978877 -0.524833\n",
       "2013-01-06 -1.589932  0.929760"
      ]
     },
     "execution_count": 10,
     "metadata": {},
     "output_type": "execute_result"
    }
   ],
   "source": [
    "df.loc[:,['A','B']] #연속적인 경우가 아닐때는, 리스트로 묶어야함\n"
   ]
  },
  {
   "cell_type": "code",
   "execution_count": 14,
   "metadata": {},
   "outputs": [
    {
     "data": {
      "text/html": [
       "<div>\n",
       "<style>\n",
       "    .dataframe thead tr:only-child th {\n",
       "        text-align: right;\n",
       "    }\n",
       "\n",
       "    .dataframe thead th {\n",
       "        text-align: left;\n",
       "    }\n",
       "\n",
       "    .dataframe tbody tr th {\n",
       "        vertical-align: top;\n",
       "    }\n",
       "</style>\n",
       "<table border=\"1\" class=\"dataframe\">\n",
       "  <thead>\n",
       "    <tr style=\"text-align: right;\">\n",
       "      <th></th>\n",
       "      <th>A</th>\n",
       "      <th>B</th>\n",
       "    </tr>\n",
       "  </thead>\n",
       "  <tbody>\n",
       "    <tr>\n",
       "      <th>2013-01-02</th>\n",
       "      <td>0.613528</td>\n",
       "      <td>1.946466</td>\n",
       "    </tr>\n",
       "    <tr>\n",
       "      <th>2013-01-03</th>\n",
       "      <td>-1.484188</td>\n",
       "      <td>-0.562530</td>\n",
       "    </tr>\n",
       "    <tr>\n",
       "      <th>2013-01-04</th>\n",
       "      <td>-1.620312</td>\n",
       "      <td>0.352488</td>\n",
       "    </tr>\n",
       "    <tr>\n",
       "      <th>2013-01-05</th>\n",
       "      <td>0.978877</td>\n",
       "      <td>-0.524833</td>\n",
       "    </tr>\n",
       "  </tbody>\n",
       "</table>\n",
       "</div>"
      ],
      "text/plain": [
       "                   A         B\n",
       "2013-01-02  0.613528  1.946466\n",
       "2013-01-03 -1.484188 -0.562530\n",
       "2013-01-04 -1.620312  0.352488\n",
       "2013-01-05  0.978877 -0.524833"
      ]
     },
     "execution_count": 14,
     "metadata": {},
     "output_type": "execute_result"
    }
   ],
   "source": [
    "df.loc['2013-01-02':'2013-01-05',['A','B']] "
   ]
  },
  {
   "cell_type": "code",
   "execution_count": 16,
   "metadata": {},
   "outputs": [
    {
     "data": {
      "text/html": [
       "<div>\n",
       "<style>\n",
       "    .dataframe thead tr:only-child th {\n",
       "        text-align: right;\n",
       "    }\n",
       "\n",
       "    .dataframe thead th {\n",
       "        text-align: left;\n",
       "    }\n",
       "\n",
       "    .dataframe tbody tr th {\n",
       "        vertical-align: top;\n",
       "    }\n",
       "</style>\n",
       "<table border=\"1\" class=\"dataframe\">\n",
       "  <thead>\n",
       "    <tr style=\"text-align: right;\">\n",
       "      <th></th>\n",
       "      <th>A</th>\n",
       "      <th>B</th>\n",
       "    </tr>\n",
       "  </thead>\n",
       "  <tbody>\n",
       "    <tr>\n",
       "      <th>2013-01-02</th>\n",
       "      <td>0.613528</td>\n",
       "      <td>1.946466</td>\n",
       "    </tr>\n",
       "    <tr>\n",
       "      <th>2013-01-03</th>\n",
       "      <td>-1.484188</td>\n",
       "      <td>-0.562530</td>\n",
       "    </tr>\n",
       "    <tr>\n",
       "      <th>2013-01-04</th>\n",
       "      <td>-1.620312</td>\n",
       "      <td>0.352488</td>\n",
       "    </tr>\n",
       "    <tr>\n",
       "      <th>2013-01-05</th>\n",
       "      <td>0.978877</td>\n",
       "      <td>-0.524833</td>\n",
       "    </tr>\n",
       "  </tbody>\n",
       "</table>\n",
       "</div>"
      ],
      "text/plain": [
       "                   A         B\n",
       "2013-01-02  0.613528  1.946466\n",
       "2013-01-03 -1.484188 -0.562530\n",
       "2013-01-04 -1.620312  0.352488\n",
       "2013-01-05  0.978877 -0.524833"
      ]
     },
     "execution_count": 16,
     "metadata": {},
     "output_type": "execute_result"
    }
   ],
   "source": [
    "df.loc['2013-01-02':'2013-01-05','A':'B'] "
   ]
  },
  {
   "cell_type": "code",
   "execution_count": 2,
   "metadata": {},
   "outputs": [
    {
     "ename": "NameError",
     "evalue": "name 'df' is not defined",
     "output_type": "error",
     "traceback": [
      "\u001b[1;31m---------------------------------------------------------------------------\u001b[0m",
      "\u001b[1;31mNameError\u001b[0m                                 Traceback (most recent call last)",
      "\u001b[1;32m<ipython-input-2-dd7c84f36f80>\u001b[0m in \u001b[0;36m<module>\u001b[1;34m()\u001b[0m\n\u001b[1;32m----> 1\u001b[1;33m \u001b[0mdf\u001b[0m\u001b[1;33m.\u001b[0m\u001b[0miloc\u001b[0m\u001b[1;33m[\u001b[0m\u001b[1;36m3\u001b[0m\u001b[1;33m]\u001b[0m\u001b[1;33m\u001b[0m\u001b[0m\n\u001b[0m",
      "\u001b[1;31mNameError\u001b[0m: name 'df' is not defined"
     ]
    }
   ],
   "source": [
    "df.iloc[3]"
   ]
  },
  {
   "cell_type": "code",
   "execution_count": null,
   "metadata": {},
   "outputs": [],
   "source": []
  },
  {
   "cell_type": "code",
   "execution_count": null,
   "metadata": {},
   "outputs": [],
   "source": []
  }
 ],
 "metadata": {
  "kernelspec": {
   "display_name": "Python 3",
   "language": "python",
   "name": "python3"
  },
  "language_info": {
   "codemirror_mode": {
    "name": "ipython",
    "version": 3
   },
   "file_extension": ".py",
   "mimetype": "text/x-python",
   "name": "python",
   "nbconvert_exporter": "python",
   "pygments_lexer": "ipython3",
   "version": "3.6.3"
  }
 },
 "nbformat": 4,
 "nbformat_minor": 2
}
