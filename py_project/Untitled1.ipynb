{
 "cells": [
  {
   "cell_type": "code",
   "execution_count": 20,
   "metadata": {},
   "outputs": [
    {
     "name": "stdout",
     "output_type": "stream",
     "text": [
      "번호              int64\n",
      "식품군            object\n",
      "식품이름           object\n",
      "1회제공량 (g)       int64\n",
      "열량 (kcal)     float64\n",
      "탄수화물 (g)      float64\n",
      "단백질 (g)       float64\n",
      "지방 (g)        float64\n",
      "당류 (g)        float64\n",
      "나트륨 (mg)      float64\n",
      "콜레스테롤 (mg)    float64\n",
      "포화지방산 (g)     float64\n",
      "트랜스지방산 (g)    float64\n",
      "년도              int64\n",
      "dtype: object\n"
     ]
    }
   ],
   "source": [
    "import pandas as pd\n",
    "test=pd.read_csv('fdata.csv',dtype={'식품이름' : str})\n",
    "print (test.dtypes)"
   ]
  },
  {
   "cell_type": "code",
   "execution_count": 18,
   "metadata": {
    "scrolled": false
   },
   "outputs": [
    {
     "data": {
      "text/html": [
       "<div>\n",
       "<style scoped>\n",
       "    .dataframe tbody tr th:only-of-type {\n",
       "        vertical-align: middle;\n",
       "    }\n",
       "\n",
       "    .dataframe tbody tr th {\n",
       "        vertical-align: top;\n",
       "    }\n",
       "\n",
       "    .dataframe thead th {\n",
       "        text-align: right;\n",
       "    }\n",
       "</style>\n",
       "<table border=\"1\" class=\"dataframe\">\n",
       "  <thead>\n",
       "    <tr style=\"text-align: right;\">\n",
       "      <th></th>\n",
       "      <th>번호</th>\n",
       "      <th>식품군</th>\n",
       "      <th>식품이름</th>\n",
       "      <th>1회제공량 (g)</th>\n",
       "      <th>열량 (kcal)</th>\n",
       "      <th>탄수화물 (g)</th>\n",
       "      <th>단백질 (g)</th>\n",
       "      <th>지방 (g)</th>\n",
       "      <th>당류 (g)</th>\n",
       "      <th>나트륨 (mg)</th>\n",
       "      <th>콜레스테롤 (mg)</th>\n",
       "      <th>포화지방산 (g)</th>\n",
       "      <th>트랜스지방산 (g)</th>\n",
       "      <th>년도</th>\n",
       "    </tr>\n",
       "  </thead>\n",
       "  <tbody>\n",
       "  </tbody>\n",
       "</table>\n",
       "</div>"
      ],
      "text/plain": [
       "Empty DataFrame\n",
       "Columns: [번호, 식품군, 식품이름, 1회제공량 (g), 열량 (kcal), 탄수화물 (g), 단백질 (g), 지방 (g), 당류 (g), 나트륨 (mg), 콜레스테롤 (mg), 포화지방산 (g), 트랜스지방산 (g), 년도]\n",
       "Index: []"
      ]
     },
     "execution_count": 18,
     "metadata": {},
     "output_type": "execute_result"
    }
   ],
   "source": [
    "~test[test['식품이름'].isin(['@'])]"
   ]
  },
  {
   "cell_type": "code",
   "execution_count": null,
   "metadata": {},
   "outputs": [],
   "source": []
  },
  {
   "cell_type": "code",
   "execution_count": null,
   "metadata": {},
   "outputs": [],
   "source": []
  },
  {
   "cell_type": "code",
   "execution_count": null,
   "metadata": {},
   "outputs": [],
   "source": []
  },
  {
   "cell_type": "code",
   "execution_count": null,
   "metadata": {},
   "outputs": [],
   "source": []
  },
  {
   "cell_type": "code",
   "execution_count": null,
   "metadata": {},
   "outputs": [],
   "source": []
  },
  {
   "cell_type": "code",
   "execution_count": null,
   "metadata": {},
   "outputs": [],
   "source": []
  }
 ],
 "metadata": {
  "kernelspec": {
   "display_name": "Python 3",
   "language": "python",
   "name": "python3"
  },
  "language_info": {
   "codemirror_mode": {
    "name": "ipython",
    "version": 3
   },
   "file_extension": ".py",
   "mimetype": "text/x-python",
   "name": "python",
   "nbconvert_exporter": "python",
   "pygments_lexer": "ipython3",
   "version": "3.6.3"
  }
 },
 "nbformat": 4,
 "nbformat_minor": 2
}
